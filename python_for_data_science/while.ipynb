{
 "cells": [
  {
   "cell_type": "code",
   "execution_count": 1,
   "outputs": [],
   "source": [
    "# while: code block will keep being executed until the given logical condition returns a False boolean value"
   ],
   "metadata": {
    "collapsed": false,
    "pycharm": {
     "name": "#%%\n"
    }
   }
  },
  {
   "cell_type": "code",
   "execution_count": 2,
   "outputs": [
    {
     "name": "stdout",
     "output_type": "stream",
     "text": [
      "['orange', 'orange', 'orange']\n"
     ]
    }
   ],
   "source": [
    "# example 1\n",
    "squares = [\"orange\",\"orange\",\"orange\",\"purple\",\"blue\"]\n",
    "new_squares = []\n",
    "\n",
    "i = 0\n",
    "while squares[i] == \"orange\":\n",
    "    new_squares.append(squares[i])\n",
    "    i += 1\n",
    "\n",
    "print(new_squares)"
   ],
   "metadata": {
    "collapsed": false,
    "pycharm": {
     "name": "#%%\n"
    }
   }
  },
  {
   "cell_type": "code",
   "execution_count": 3,
   "outputs": [
    {
     "name": "stdout",
     "output_type": "stream",
     "text": [
      "1982\n",
      "1980\n",
      "1973\n",
      "it took 3 repetitions to get out of loop\n"
     ]
    }
   ],
   "source": [
    "# example 2\n",
    "dates = [1982, 1980, 1973, 2000]\n",
    "\n",
    "i = 0\n",
    "year = 0\n",
    "\n",
    "while year != 1973:\n",
    "    year = dates[i]\n",
    "    i += 1\n",
    "    print(year)\n",
    "\n",
    "print(f\"it took {i} repetitions to get out of loop\")"
   ],
   "metadata": {
    "collapsed": false,
    "pycharm": {
     "name": "#%%\n"
    }
   }
  },
  {
   "cell_type": "code",
   "execution_count": 4,
   "outputs": [
    {
     "name": "stdout",
     "output_type": "stream",
     "text": [
      "10\n",
      "9.5\n",
      "10\n",
      "8\n",
      "7\n"
     ]
    }
   ],
   "source": [
    "# example 3\n",
    "PlayListRatings = [10, 9.5, 10, 8, 7, 5, 5, 10, 10]\n",
    "\n",
    "i = 0\n",
    "r = PlayListRatings[i]\n",
    "\n",
    "while r >= 6:\n",
    "    print(r)\n",
    "    i += 1\n",
    "    r = PlayListRatings[i]"
   ],
   "metadata": {
    "collapsed": false,
    "pycharm": {
     "name": "#%%\n"
    }
   }
  },
  {
   "cell_type": "code",
   "execution_count": 5,
   "outputs": [
    {
     "name": "stdout",
     "output_type": "stream",
     "text": [
      "['o', 'r', 'a', 'n', 'g', 'e', 'o', 'r', 'a', 'n', 'g', 'e']\n"
     ]
    }
   ],
   "source": [
    "# example 4\n",
    "squares =  [\"orange\",\"orange\",\"purple\",\"blue\",\"orange\"]\n",
    "\n",
    "i = 0\n",
    "new_squares = []\n",
    "\n",
    "while squares[i] == \"orange\":\n",
    "    new_squares.extend(\"orange\")\n",
    "    i += 1\n",
    "\n",
    "print(new_squares)"
   ],
   "metadata": {
    "collapsed": false,
    "pycharm": {
     "name": "#%%\n"
    }
   }
  },
  {
   "cell_type": "code",
   "execution_count": 6,
   "outputs": [
    {
     "name": "stdout",
     "output_type": "stream",
     "text": [
      "['orange', 'orange']\n"
     ]
    }
   ],
   "source": [
    "# example 5\n",
    "squares =  [\"orange\",\"orange\",\"purple\",\"blue\",\"orange\"]\n",
    "\n",
    "i = 0\n",
    "new_squares = []\n",
    "\n",
    "while squares[i] == \"orange\":\n",
    "    new_squares.append(\"orange\")\n",
    "    i += 1\n",
    "\n",
    "print(new_squares)"
   ],
   "metadata": {
    "collapsed": false,
    "pycharm": {
     "name": "#%%\n"
    }
   }
  }
 ],
 "metadata": {
  "kernelspec": {
   "display_name": "Python 3",
   "language": "python",
   "name": "python3"
  },
  "language_info": {
   "codemirror_mode": {
    "name": "ipython",
    "version": 2
   },
   "file_extension": ".py",
   "mimetype": "text/x-python",
   "name": "python",
   "nbconvert_exporter": "python",
   "pygments_lexer": "ipython2",
   "version": "2.7.6"
  }
 },
 "nbformat": 4,
 "nbformat_minor": 0
}