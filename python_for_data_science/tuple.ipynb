{
 "cells": [
  {
   "cell_type": "code",
   "execution_count": 1,
   "outputs": [],
   "source": [
    "# tuple\n",
    "# - is immutable, but can be reassigned\n",
    "# - is ordered sequence, can be sorted\n",
    "# - written as comma-seperated elements with parentheses"
   ],
   "metadata": {
    "collapsed": false,
    "pycharm": {
     "name": "#%%\n"
    }
   }
  },
  {
   "cell_type": "code",
   "execution_count": 9,
   "outputs": [
    {
     "name": "stdout",
     "output_type": "stream",
     "text": [
      "tuple1[-2]: disco\n"
     ]
    }
   ],
   "source": [
    "tuple1 = (10, \"disco\", 1.2)\n",
    "print(f\"tuple1[-2]: {tuple1[-2]}\")"
   ],
   "metadata": {
    "collapsed": false,
    "pycharm": {
     "name": "#%%\n"
    }
   }
  },
  {
   "cell_type": "code",
   "execution_count": 7,
   "outputs": [
    {
     "name": "stdout",
     "output_type": "stream",
     "text": [
      "tuple2: (10, 'disco', 1.2, 'hard rock', (10.0, 1.2))\n"
     ]
    }
   ],
   "source": [
    "tuple2 = tuple1 + (\"hard rock\", (10.0, 1.2))\n",
    "print(f\"tuple2: {tuple2}\")"
   ],
   "metadata": {
    "collapsed": false,
    "pycharm": {
     "name": "#%%\n"
    }
   }
  },
  {
   "cell_type": "code",
   "execution_count": 8,
   "outputs": [
    {
     "name": "stdout",
     "output_type": "stream",
     "text": [
      "tuple2[-1][0]: 10.0\n"
     ]
    }
   ],
   "source": [
    "print(f\"tuple2[-1][0]: {tuple2[-1][0]}\")"
   ],
   "metadata": {
    "collapsed": false,
    "pycharm": {
     "name": "#%%\n"
    }
   }
  },
  {
   "cell_type": "code",
   "execution_count": 14,
   "outputs": [
    {
     "name": "stdout",
     "output_type": "stream",
     "text": [
      "tuple1 after reassigned: (2, 1, 3, 0)\n"
     ]
    }
   ],
   "source": [
    "tuple1 = (2, 1, 3, 0)\n",
    "print(f\"tuple1 after reassigned: {tuple1}\")"
   ],
   "metadata": {
    "collapsed": false,
    "pycharm": {
     "name": "#%%\n"
    }
   }
  },
  {
   "cell_type": "code",
   "execution_count": 13,
   "outputs": [
    {
     "data": {
      "text/plain": "3"
     },
     "execution_count": 13,
     "metadata": {},
     "output_type": "execute_result"
    }
   ],
   "source": [
    "# find - method\n",
    "tuple2.index(\"hard rock\")"
   ],
   "metadata": {
    "collapsed": false,
    "pycharm": {
     "name": "#%%\n"
    }
   }
  },
  {
   "cell_type": "code",
   "execution_count": 16,
   "outputs": [
    {
     "name": "stdout",
     "output_type": "stream",
     "text": [
      "tuple1 before sorted: (2, 1, 3, 0)\n",
      "tuple1 after sorted: [0, 1, 2, 3]\n"
     ]
    }
   ],
   "source": [
    "# sort - function\n",
    "print(f\"tuple1 before sorted: {tuple1}\")\n",
    "print(f\"tuple1 after sorted: {sorted(tuple1)}\")"
   ],
   "metadata": {
    "collapsed": false,
    "pycharm": {
     "name": "#%%\n"
    }
   }
  }
 ],
 "metadata": {
  "kernelspec": {
   "display_name": "Python 3",
   "language": "python",
   "name": "python3"
  },
  "language_info": {
   "codemirror_mode": {
    "name": "ipython",
    "version": 2
   },
   "file_extension": ".py",
   "mimetype": "text/x-python",
   "name": "python",
   "nbconvert_exporter": "python",
   "pygments_lexer": "ipython2",
   "version": "2.7.6"
  }
 },
 "nbformat": 4,
 "nbformat_minor": 0
}