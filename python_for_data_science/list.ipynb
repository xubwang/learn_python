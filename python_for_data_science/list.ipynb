{
 "cells": [
  {
   "cell_type": "code",
   "execution_count": 1,
   "outputs": [],
   "source": [
    "# list\n",
    "# - mutable, and can be reassigned\n",
    "# - are also ordered sequence\n",
    "# - is represented with square brackets"
   ],
   "metadata": {
    "collapsed": false,
    "pycharm": {
     "name": "#%%\n"
    }
   }
  },
  {
   "cell_type": "code",
   "execution_count": 8,
   "outputs": [
    {
     "name": "stdout",
     "output_type": "stream",
     "text": [
      "list1[-2]: disco\n"
     ]
    }
   ],
   "source": [
    "list1 = [10, \"disco\", 1.2]\n",
    "print(f\"list1[-2]: {list1[-2]}\")"
   ],
   "metadata": {
    "collapsed": false,
    "pycharm": {
     "name": "#%%\n"
    }
   }
  },
  {
   "cell_type": "code",
   "execution_count": 9,
   "outputs": [
    {
     "name": "stdout",
     "output_type": "stream",
     "text": [
      "list2: [10, 'disco', 1.2, 'hard rock', [10.0, 1.2]]\n"
     ]
    }
   ],
   "source": [
    "list2 = list1 + [\"hard rock\", [10.0, 1.2]]\n",
    "print(f\"list2: {list2}\")"
   ],
   "metadata": {
    "collapsed": false,
    "pycharm": {
     "name": "#%%\n"
    }
   }
  },
  {
   "cell_type": "code",
   "execution_count": 10,
   "outputs": [
    {
     "name": "stdout",
     "output_type": "stream",
     "text": [
      "list3: None\n",
      "list1 after extended: [10, 'disco', 1.2, 'hard rock', [10.0, 1.2]]\n"
     ]
    }
   ],
   "source": [
    "# list.extend(): input as list with [], just like combined two lists\n",
    "list3 = list1.extend([\"hard rock\", [10.0, 1.2]])\n",
    "print(f\"list3: {list3}\")\n",
    "print(f\"list1 after extended: {list1}\")"
   ],
   "metadata": {
    "collapsed": false,
    "pycharm": {
     "name": "#%%\n"
    }
   }
  },
  {
   "cell_type": "code",
   "execution_count": 11,
   "outputs": [
    {
     "name": "stdout",
     "output_type": "stream",
     "text": [
      "list1 after appended: [10, 'disco', 1.2, 'hard rock', [10.0, 1.2], ['hard rock', [10.0, 1.2]]]\n"
     ]
    }
   ],
   "source": [
    "# list.append(): input as one element to be added into the list\n",
    "list1.append([\"hard rock\", [10.0, 1.2]])\n",
    "print(f\"list1 after appended: {list1}\")"
   ],
   "metadata": {
    "collapsed": false,
    "pycharm": {
     "name": "#%%\n"
    }
   }
  },
  {
   "cell_type": "code",
   "execution_count": 12,
   "outputs": [
    {
     "name": "stdout",
     "output_type": "stream",
     "text": [
      "list1 after muted: [10, 'disco', 1.2, 'hard rock', [10.0, 1.2], 'pop']\n"
     ]
    }
   ],
   "source": [
    "# list mutable\n",
    "list1[-1] = \"pop\"\n",
    "print(f\"list1 after muted: {list1}\")"
   ],
   "metadata": {
    "collapsed": false,
    "pycharm": {
     "name": "#%%\n"
    }
   }
  },
  {
   "cell_type": "code",
   "execution_count": 13,
   "outputs": [
    {
     "name": "stdout",
     "output_type": "stream",
     "text": [
      "['hard', 'rock']\n",
      "['a', 'b', 'c', 'd']\n"
     ]
    }
   ],
   "source": [
    "# convert string to list\n",
    "print(\"hard rock\".split())\n",
    "print(\"a,b,c,d\".split(\",\"))"
   ],
   "metadata": {
    "collapsed": false,
    "pycharm": {
     "name": "#%%\n"
    }
   }
  },
  {
   "cell_type": "code",
   "execution_count": 16,
   "outputs": [
    {
     "name": "stdout",
     "output_type": "stream",
     "text": [
      "before object muted B: [10, 'disco', 1.2]\n",
      "after object muted B: [10, 'hard rock', 1.2]\n"
     ]
    }
   ],
   "source": [
    "# list: aliasing - multiple names referring to the same object\n",
    "A = [10, \"disco\", 1.2]\n",
    "B = A\n",
    "print(f\"before object muted B: {B}\")\n",
    "\n",
    "A[1] = \"hard rock\"\n",
    "print(f\"after object muted B: {B}\")"
   ],
   "metadata": {
    "collapsed": false,
    "pycharm": {
     "name": "#%%\n"
    }
   }
  },
  {
   "cell_type": "code",
   "execution_count": 17,
   "outputs": [
    {
     "name": "stdout",
     "output_type": "stream",
     "text": [
      "before object muted B: [10, 'disco', 1.2]\n",
      "after object muted B: [10, 'disco', 1.2]\n"
     ]
    }
   ],
   "source": [
    "# list: clone - multiple names referring to different objects\n",
    "A = [10, \"disco\", 1.2]\n",
    "B = A[:]\n",
    "print(f\"before object muted B: {B}\")\n",
    "\n",
    "A[1] = \"hard rock\"\n",
    "print(f\"after object muted B: {B}\")"
   ],
   "metadata": {
    "collapsed": false,
    "pycharm": {
     "name": "#%%\n"
    }
   }
  }
 ],
 "metadata": {
  "kernelspec": {
   "display_name": "Python 3",
   "language": "python",
   "name": "python3"
  },
  "language_info": {
   "codemirror_mode": {
    "name": "ipython",
    "version": 2
   },
   "file_extension": ".py",
   "mimetype": "text/x-python",
   "name": "python",
   "nbconvert_exporter": "python",
   "pygments_lexer": "ipython2",
   "version": "2.7.6"
  }
 },
 "nbformat": 4,
 "nbformat_minor": 0
}