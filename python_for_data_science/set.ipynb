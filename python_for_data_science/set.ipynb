{
 "cells": [
  {
   "cell_type": "code",
   "execution_count": 1,
   "outputs": [],
   "source": [
    "# set\n",
    "# - has no order"
   ],
   "metadata": {
    "collapsed": false,
    "pycharm": {
     "name": "#%%\n"
    }
   }
  },
  {
   "cell_type": "code",
   "execution_count": 2,
   "outputs": [
    {
     "name": "stdout",
     "output_type": "stream",
     "text": [
      "{1.2, 10, 'disco'}\n"
     ]
    }
   ],
   "source": [
    "# create set - DON'T NAME VARIABLE 'set' OR 'list'...\n",
    "list_ = [10, \"disco\", 1.2]\n",
    "set_ = set(list_)\n",
    "print(set_)"
   ],
   "metadata": {
    "collapsed": false,
    "pycharm": {
     "name": "#%%\n"
    }
   }
  },
  {
   "cell_type": "code",
   "execution_count": 4,
   "outputs": [
    {
     "name": "stdout",
     "output_type": "stream",
     "text": [
      "set_ after added: {1.2, 10, 'hard rock', 'disco'}\n"
     ]
    }
   ],
   "source": [
    "# set: add\n",
    "set_.add(\"hard rock\")\n",
    "print(f\"set_ after added: {set_}\")"
   ],
   "metadata": {
    "collapsed": false,
    "pycharm": {
     "name": "#%%\n"
    }
   }
  },
  {
   "cell_type": "code",
   "execution_count": 5,
   "outputs": [
    {
     "name": "stdout",
     "output_type": "stream",
     "text": [
      "set_ after removed: {1.2, 'hard rock', 'disco'}\n"
     ]
    }
   ],
   "source": [
    "# set: remove\n",
    "set_.remove(10)\n",
    "print(f\"set_ after removed: {set_}\")"
   ],
   "metadata": {
    "collapsed": false,
    "pycharm": {
     "name": "#%%\n"
    }
   }
  },
  {
   "cell_type": "code",
   "execution_count": 6,
   "outputs": [
    {
     "data": {
      "text/plain": "False"
     },
     "execution_count": 6,
     "metadata": {},
     "output_type": "execute_result"
    }
   ],
   "source": [
    "# set: check if element in set\n",
    "\"pop\" in set_"
   ],
   "metadata": {
    "collapsed": false,
    "pycharm": {
     "name": "#%%\n"
    }
   }
  },
  {
   "cell_type": "code",
   "execution_count": 7,
   "outputs": [
    {
     "name": "stdout",
     "output_type": "stream",
     "text": [
      "sets after intersected by method1 - set3: {1, 3}\n",
      "sets after intersected by method2 - set4: {1, 3}\n"
     ]
    }
   ],
   "source": [
    "# set: intersection\n",
    "set1 = {1,2,3,4}\n",
    "set2 = {1,3,5,7}\n",
    "set3 = set1 & set2\n",
    "set4 = set1.intersection(set2)\n",
    "\n",
    "print(f\"sets after intersected by method1 - set3: {set3}\")\n",
    "print(f\"sets after intersected by method2 - set4: {set4}\")"
   ],
   "metadata": {
    "collapsed": false,
    "pycharm": {
     "name": "#%%\n"
    }
   }
  },
  {
   "cell_type": "code",
   "execution_count": 8,
   "outputs": [
    {
     "name": "stdout",
     "output_type": "stream",
     "text": [
      "sets after union set5: {1, 2, 3, 4, 5, 7}\n"
     ]
    }
   ],
   "source": [
    "# set: union\n",
    "set5 = set1.union(set2)\n",
    "print(f\"sets after union set5: {set5}\")"
   ],
   "metadata": {
    "collapsed": false,
    "pycharm": {
     "name": "#%%\n"
    }
   }
  },
  {
   "cell_type": "code",
   "execution_count": 9,
   "outputs": [
    {
     "name": "stdout",
     "output_type": "stream",
     "text": [
      "set1 after difference from set6: {2, 4}\n"
     ]
    }
   ],
   "source": [
    "# set: difference\n",
    "set6 = set1.difference(set2)\n",
    "print(f\"set1 after difference from set6: {set6}\")"
   ],
   "metadata": {
    "collapsed": false,
    "pycharm": {
     "name": "#%%\n"
    }
   }
  },
  {
   "cell_type": "code",
   "execution_count": 10,
   "outputs": [
    {
     "data": {
      "text/plain": "False"
     },
     "execution_count": 10,
     "metadata": {},
     "output_type": "execute_result"
    }
   ],
   "source": [
    "# set: check if subset\n",
    "{1,3,5,7,9}.issubset(set5)"
   ],
   "metadata": {
    "collapsed": false,
    "pycharm": {
     "name": "#%%\n"
    }
   }
  },
  {
   "cell_type": "code",
   "execution_count": 11,
   "outputs": [
    {
     "data": {
      "text/plain": "True"
     },
     "execution_count": 11,
     "metadata": {},
     "output_type": "execute_result"
    }
   ],
   "source": [
    "# set: check if superset\n",
    "{2,4,6,8}.issuperset(set6)"
   ],
   "metadata": {
    "collapsed": false,
    "pycharm": {
     "name": "#%%\n"
    }
   }
  },
  {
   "cell_type": "code",
   "execution_count": 13,
   "outputs": [
    {
     "name": "stdout",
     "output_type": "stream",
     "text": [
      "sum of A is: 6\n",
      "sum of B is: 3\n"
     ]
    }
   ],
   "source": [
    "# sum can be applied to both set and list\n",
    "A = [1,2,2,1]\n",
    "B = set(A)\n",
    "\n",
    "print(f\"sum of A is: {sum(A)}\")\n",
    "print(f\"sum of B is: {sum(B)}\")"
   ],
   "metadata": {
    "collapsed": false,
    "pycharm": {
     "name": "#%%\n"
    }
   }
  }
 ],
 "metadata": {
  "kernelspec": {
   "display_name": "Python 3",
   "language": "python",
   "name": "python3"
  },
  "language_info": {
   "codemirror_mode": {
    "name": "ipython",
    "version": 2
   },
   "file_extension": ".py",
   "mimetype": "text/x-python",
   "name": "python",
   "nbconvert_exporter": "python",
   "pygments_lexer": "ipython2",
   "version": "2.7.6"
  }
 },
 "nbformat": 4,
 "nbformat_minor": 0
}